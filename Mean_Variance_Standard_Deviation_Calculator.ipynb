{
  "nbformat": 4,
  "nbformat_minor": 0,
  "metadata": {
    "colab": {
      "provenance": []
    },
    "kernelspec": {
      "name": "python3",
      "display_name": "Python 3"
    },
    "language_info": {
      "name": "python"
    }
  },
  "cells": [
    {
      "cell_type": "markdown",
      "source": [
        "# Mean-Variance-Standard Deviation Calculator\n",
        "\n",
        "Create a function named calculate() in mean_var_std.py that uses Numpy to output the mean, variance, standard deviation, max, min, and sum of the rows, columns, and elements in a 3 x 3 matrix.\n",
        "\n",
        "The input of the function should be a list containing 9 digits. The function should convert the list into a 3 x 3 Numpy array, and then return a dictionary containing the mean, variance, standard deviation, max, min, and sum along both axes and for the flattened matrix.\n",
        "\n",
        "If a list containing less than 9 elements is passed into the function, it should raise a ValueError exception with the message: \"List must contain nine numbers.\" The values in the returned dictionary should be lists and not Numpy arrays."
      ],
      "metadata": {
        "id": "4FLuppzIV3F2"
      }
    },
    {
      "cell_type": "code",
      "execution_count": 12,
      "metadata": {
        "id": "_DmIsHPrrBij"
      },
      "outputs": [],
      "source": [
        "import numpy as np\n",
        "\n",
        "def calculate(list):\n",
        "\n",
        "    # Here we raise the ValueError whit a message\n",
        "    if len(list) != 9:\n",
        "        raise ValueError(\"List must contain nine numbers.\")\n",
        "\n",
        "    # Here we transform the list to an array of shape 3x3\n",
        "    list1 = np.array(list).reshape(3,3)\n",
        "\n",
        "    # Here we declare the variables wich we want to calculate and include in the dictionary \n",
        "    meanlist = [list1.mean(axis=0).tolist(), list1.mean(axis=1).tolist(), np.mean(list)]\n",
        "    varlist = [list1.var(axis=0).tolist(), list1.var(axis=1).tolist(), np.var(list)]\n",
        "    standlist = [list1.std(axis=0).tolist(), list1.std(axis=1).tolist(), np.std(list)]\n",
        "    maxlist = [list1.max(axis=0).tolist(), list1.max(axis=1).tolist(), np.max(list)]\n",
        "    minlist = [list1.min(axis=0).tolist(), list1.min(axis=1).tolist(), np.min(list)]\n",
        "    sumlist = [list1.sum(axis=0).tolist(), list1.sum(axis=1).tolist(), np.sum(list)]\n",
        "\n",
        "    # Here we make the dictionary wich will be return\n",
        "    calculations = {\n",
        "        \"mean\": meanlist,\n",
        "        \"variance\": varlist,\n",
        "        \"standard deviation\": standlist,\n",
        "        \"max\": maxlist,\n",
        "        \"min\": minlist,\n",
        "        \"sum\": sumlist\n",
        "    }\n",
        "    \n",
        "    return calculations\n"
      ]
    },
    {
      "cell_type": "code",
      "source": [
        "calculate([0,1,2,3,4,5,6,7,9])"
      ],
      "metadata": {
        "colab": {
          "base_uri": "https://localhost:8080/"
        },
        "id": "m-BS4NW2rTLd",
        "outputId": "b190cf87-24d6-4a32-b92b-c3d70f080a1e"
      },
      "execution_count": 14,
      "outputs": [
        {
          "output_type": "execute_result",
          "data": {
            "text/plain": [
              "{'mean': [[3.0, 4.0, 5.333333333333333],\n",
              "  [1.0, 4.0, 7.333333333333333],\n",
              "  4.111111111111111],\n",
              " 'variance': [[6.0, 6.0, 8.222222222222221],\n",
              "  [0.6666666666666666, 0.6666666666666666, 1.5555555555555554],\n",
              "  7.65432098765432],\n",
              " 'standard deviation': [[2.449489742783178,\n",
              "   2.449489742783178,\n",
              "   2.8674417556808756],\n",
              "  [0.816496580927726, 0.816496580927726, 1.247219128924647],\n",
              "  2.7666443551086073],\n",
              " 'max': [[6, 7, 9], [2, 5, 9], 9],\n",
              " 'min': [[0, 1, 2], [0, 3, 6], 0],\n",
              " 'sum': [[9, 12, 16], [3, 12, 22], 37]}"
            ]
          },
          "metadata": {},
          "execution_count": 14
        }
      ]
    }
  ]
}